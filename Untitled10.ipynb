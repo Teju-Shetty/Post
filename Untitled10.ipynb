{
  "nbformat": 4,
  "nbformat_minor": 0,
  "metadata": {
    "colab": {
      "provenance": []
    },
    "kernelspec": {
      "name": "python3",
      "display_name": "Python 3"
    },
    "language_info": {
      "name": "python"
    }
  },
  "cells": [
    {
      "cell_type": "markdown",
      "source": [
        "**My Jupyter Notebook on IBM Watson Studio**"
      ],
      "metadata": {
        "id": "z_RteQugiOR-"
      }
    },
    {
      "cell_type": "markdown",
      "source": [
        "Tejasvi Shetty"
      ],
      "metadata": {
        "id": "FMYsTdr7h8wd"
      }
    },
    {
      "cell_type": "markdown",
      "source": [
        "*I am intrested in data science because it is the sexiest job of 21st century.Moreover the field of data science keep on evolving day by day which makes it much more intresting.*"
      ],
      "metadata": {
        "id": "np5U4tzNiMYJ"
      }
    },
    {
      "cell_type": "markdown",
      "source": [
        "Progam to display the output"
      ],
      "metadata": {
        "id": "aNZU9IxRjH9l"
      }
    },
    {
      "cell_type": "code",
      "source": [
        "print(\"hello watson studio\")"
      ],
      "metadata": {
        "colab": {
          "base_uri": "https://localhost:8080/"
        },
        "id": "u--nIuyjjbie",
        "outputId": "237e2f4b-5831-441d-d072-ff48441d009c"
      },
      "execution_count": null,
      "outputs": [
        {
          "output_type": "stream",
          "name": "stdout",
          "text": [
            "hello watson studio\n"
          ]
        }
      ]
    },
    {
      "cell_type": "markdown",
      "source": [
        "***NOTE:i was not able to login on IBM cloud***"
      ],
      "metadata": {
        "id": "ftA28SFfjlAS"
      }
    },
    {
      "cell_type": "markdown",
      "source": [
        "\n",
        "\n",
        "*   IBM cloud\n",
        "*   Watson Studio\n",
        "\n",
        "1.   python\n",
        "2.   R\n",
        "\n",
        "\n",
        "\n",
        "\n",
        "\n"
      ],
      "metadata": {
        "id": "duvfuTcEm_-7"
      }
    },
    {
      "cell_type": "code",
      "source": [],
      "metadata": {
        "id": "VcRgXrvGnR3N"
      },
      "execution_count": null,
      "outputs": []
    }
  ]
}